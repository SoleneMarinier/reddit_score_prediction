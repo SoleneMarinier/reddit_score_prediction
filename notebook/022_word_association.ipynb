{
 "cells": [
  {
   "cell_type": "markdown",
   "metadata": {
    "id": "I9DGsGCbMyV5"
   },
   "source": [
    "## Word association"
   ]
  },
  {
   "cell_type": "markdown",
   "metadata": {},
   "source": [
    "In this notebook we study word association. It has to be executed after the text preprocessing."
   ]
  },
  {
   "cell_type": "markdown",
   "metadata": {},
   "source": [
    "### Set-up"
   ]
  },
  {
   "cell_type": "code",
   "execution_count": null,
   "metadata": {},
   "outputs": [],
   "source": [
    "#!pip install gensim\n",
    "#!pip install spacy"
   ]
  },
  {
   "cell_type": "code",
   "execution_count": 1,
   "metadata": {},
   "outputs": [
    {
     "name": "stderr",
     "output_type": "stream",
     "text": [
      "C:\\Users\\s1027177\\Anaconda3\\lib\\site-packages\\gensim\\similarities\\__init__.py:15: UserWarning: The gensim.similarities.levenshtein submodule is disabled, because the optional Levenshtein package <https://pypi.org/project/python-Levenshtein/> is unavailable. Install Levenhstein (e.g. `pip install python-Levenshtein`) to suppress this warning.\n",
      "  warnings.warn(msg)\n"
     ]
    }
   ],
   "source": [
    "import pickle\n",
    "\n",
    "import numpy as np\n",
    "import pandas as pd\n",
    "\n",
    "from sklearn.model_selection import train_test_split\n",
    "from gensim.models import Word2Vec"
   ]
  },
  {
   "cell_type": "markdown",
   "metadata": {},
   "source": [
    "Input your repository path here:"
   ]
  },
  {
   "cell_type": "code",
   "execution_count": null,
   "metadata": {},
   "outputs": [],
   "source": [
    "repsource = \"C:/Users/s1027177/OneDrive - Syngenta/Documents/FOAD/au_secours/\""
   ]
  },
  {
   "cell_type": "code",
   "execution_count": null,
   "metadata": {},
   "outputs": [],
   "source": [
    "file1=open(repsource+\"df_body_cleaned\",\"rb\")\n",
    "df_cleaned=pickle.load(file1)\n",
    "file1.close()"
   ]
  },
  {
   "cell_type": "markdown",
   "metadata": {},
   "source": [
    "### Word association"
   ]
  },
  {
   "cell_type": "markdown",
   "metadata": {},
   "source": [
    "We use the following functions to split the dataset between test and train sets:"
   ]
  },
  {
   "cell_type": "code",
   "execution_count": null,
   "metadata": {},
   "outputs": [],
   "source": [
    "def test_split(dataset):\n",
    "    Test_DF = dataset[pd.isna(dataset.ups)]\n",
    "    return Test_DF\n",
    "\n",
    "def train_split(dataset):\n",
    "    Train_DF = dataset[pd.isna(dataset.ups) == False]\n",
    "    return Train_DF"
   ]
  },
  {
   "cell_type": "markdown",
   "metadata": {
    "id": "EPMfkwBNPJiC"
   },
   "source": [
    "Word2Vec converts a word/sentence to a vector. It is very powerful and adapted to learned over a big collection of documents. As we have about 4 millions of comments, the results should be interesting. We will apply it on the pre-processed `body` column to get "
   ]
  },
  {
   "cell_type": "code",
   "execution_count": null,
   "metadata": {},
   "outputs": [],
   "source": [
    "X = train_split(df_cleaned)\n",
    "X = X['body']\n",
    "X = X.fillna(' ')\n",
    "X.shape"
   ]
  },
  {
   "cell_type": "markdown",
   "metadata": {
    "id": "LYyAFRkLSWmG"
   },
   "source": [
    "Create a list of list format of the preprocessed comments for gensim modeling."
   ]
  },
  {
   "cell_type": "code",
   "execution_count": null,
   "metadata": {
    "id": "cCGOVskrSXL5"
   },
   "outputs": [],
   "source": [
    "docs = [row.split(',') for row in X]"
   ]
  },
  {
   "cell_type": "code",
   "execution_count": null,
   "metadata": {
    "colab": {
     "base_uri": "https://localhost:8080/"
    },
    "id": "FI8QmPxMReTB",
    "outputId": "56314104-27e9-44af-e739-91ef1805ceb0"
   },
   "outputs": [],
   "source": [
    "print(len(docs))\n",
    "print('First 3 preprocessed comments:', docs[:3])"
   ]
  },
  {
   "cell_type": "markdown",
   "metadata": {
    "id": "WFSrahEMSrci"
   },
   "source": [
    "We train the Word2vec model with our own custom corpus with a smaller number of dimensions than the TF-IDF for the embeddings for smaller model.\n",
    "Other Word2Vec parameters will be:\n",
    "* default `window`: maximum distance between a target word and words around.\n",
    "* all words are considered when training the model as far as they appear at least once (`min_count` = 1)\n",
    "* `workers` correspond to the number of partitions during training. Default is 3."
   ]
  },
  {
   "cell_type": "code",
   "execution_count": null,
   "metadata": {
    "colab": {
     "base_uri": "https://localhost:8080/",
     "height": 375
    },
    "id": "njnYsGbHKuh4",
    "outputId": "1a4eecab-a2e5-4719-f0bc-255f14946b8e"
   },
   "outputs": [],
   "source": [
    "w2v = Word2Vec(docs, size= 100, window=5, min_count=1, workers=3)"
   ]
  },
  {
   "cell_type": "markdown",
   "metadata": {
    "id": "t-cmNR7OcvgV"
   },
   "source": [
    "We can check for different word association using the `most_similar` function."
   ]
  },
  {
   "cell_type": "code",
   "execution_count": null,
   "metadata": {
    "id": "__pDkgYUcuVo"
   },
   "outputs": [],
   "source": [
    "w2v.wv.most_similar(positive=[\"engineering\"])"
   ]
  },
  {
   "cell_type": "markdown",
   "metadata": {
    "id": "H11GvN0HQCzC"
   },
   "source": [
    "Load vectors into spacy"
   ]
  },
  {
   "cell_type": "code",
   "execution_count": null,
   "metadata": {
    "colab": {
     "base_uri": "https://localhost:8080/"
    },
    "id": "A1Z1JujcQFV2",
    "outputId": "a2941998-e5a4-4902-cf73-db0f5439adf0"
   },
   "outputs": [],
   "source": [
    "w2v.wv.vectors.shape"
   ]
  }
 ],
 "metadata": {
  "kernelspec": {
   "display_name": "Python 3",
   "language": "python",
   "name": "python3"
  },
  "language_info": {
   "codemirror_mode": {
    "name": "ipython",
    "version": 3
   },
   "file_extension": ".py",
   "mimetype": "text/x-python",
   "name": "python",
   "nbconvert_exporter": "python",
   "pygments_lexer": "ipython3",
   "version": "3.8.3"
  }
 },
 "nbformat": 4,
 "nbformat_minor": 4
}
