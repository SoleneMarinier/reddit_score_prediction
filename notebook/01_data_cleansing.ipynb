{
 "cells": [
  {
   "cell_type": "markdown",
   "metadata": {},
   "source": [
    "# Data Cleansing"
   ]
  },
  {
   "cell_type": "markdown",
   "metadata": {},
   "source": [
    "As a reminder, the dataset contains the entirity of the AskReddit comments in May 2016\n",
    "\n",
    "In this first notebook, we discover the data and the network structure.\n",
    "\n",
    "We first import the data and librairies needed. Then, we do some data cleaning. Finally, we try to extract interesting network features from our dataset."
   ]
  },
  {
   "cell_type": "markdown",
   "metadata": {
    "id": "rNrbE_3rUiPj"
   },
   "source": [
    "## Set-up\n"
   ]
  },
  {
   "cell_type": "code",
   "execution_count": 1,
   "metadata": {},
   "outputs": [],
   "source": [
    "import pickle\n",
    "import numpy as np\n",
    "import pandas as pd"
   ]
  },
  {
   "cell_type": "markdown",
   "metadata": {},
   "source": [
    "Input your repository file here:"
   ]
  },
  {
   "cell_type": "code",
   "execution_count": 3,
   "metadata": {},
   "outputs": [],
   "source": [
    "repsource = \"C:/Users/s1027177/OneDrive - Syngenta/Documents/FOAD/au_secours/\""
   ]
  },
  {
   "cell_type": "code",
   "execution_count": 4,
   "metadata": {},
   "outputs": [],
   "source": [
    "file = \"comments_students.csv\"\n",
    "df = pd.read_csv(repsource+file)"
   ]
  },
  {
   "cell_type": "markdown",
   "metadata": {
    "id": "2_XaZlvnmu_S"
   },
   "source": [
    "We drop the unneeded variables:"
   ]
  },
  {
   "cell_type": "code",
   "execution_count": 5,
   "metadata": {
    "colab": {
     "base_uri": "https://localhost:8080/",
     "height": 202
    },
    "id": "9HqcNc1HmyE0",
    "outputId": "2b84e8d6-26e4-4620-e7d0-f58df574fed7"
   },
   "outputs": [
    {
     "data": {
      "text/html": [
       "<div>\n",
       "<style scoped>\n",
       "    .dataframe tbody tr th:only-of-type {\n",
       "        vertical-align: middle;\n",
       "    }\n",
       "\n",
       "    .dataframe tbody tr th {\n",
       "        vertical-align: top;\n",
       "    }\n",
       "\n",
       "    .dataframe thead th {\n",
       "        text-align: right;\n",
       "    }\n",
       "</style>\n",
       "<table border=\"1\" class=\"dataframe\">\n",
       "  <thead>\n",
       "    <tr style=\"text-align: right;\">\n",
       "      <th></th>\n",
       "      <th>created_utc</th>\n",
       "      <th>ups</th>\n",
       "      <th>link_id</th>\n",
       "      <th>name</th>\n",
       "      <th>id</th>\n",
       "      <th>author</th>\n",
       "      <th>body</th>\n",
       "      <th>parent_id</th>\n",
       "    </tr>\n",
       "  </thead>\n",
       "  <tbody>\n",
       "    <tr>\n",
       "      <th>0</th>\n",
       "      <td>1430438400</td>\n",
       "      <td>3.0</td>\n",
       "      <td>t3_34f9rh</td>\n",
       "      <td>t1_cqug90j</td>\n",
       "      <td>cqug90j</td>\n",
       "      <td>jesse9o3</td>\n",
       "      <td>No one has a European accent either  because i...</td>\n",
       "      <td>t1_cqug2sr</td>\n",
       "    </tr>\n",
       "    <tr>\n",
       "      <th>1</th>\n",
       "      <td>1430438400</td>\n",
       "      <td>3.0</td>\n",
       "      <td>t3_34fvry</td>\n",
       "      <td>t1_cqug90k</td>\n",
       "      <td>cqug90k</td>\n",
       "      <td>beltfedshooter</td>\n",
       "      <td>That the kid ..reminds me of Kevin.   so sad :-(</td>\n",
       "      <td>t3_34fvry</td>\n",
       "    </tr>\n",
       "    <tr>\n",
       "      <th>2</th>\n",
       "      <td>1430438400</td>\n",
       "      <td>5.0</td>\n",
       "      <td>t3_34ffo5</td>\n",
       "      <td>t1_cqug90z</td>\n",
       "      <td>cqug90z</td>\n",
       "      <td>InterimFatGuy</td>\n",
       "      <td>NSFL</td>\n",
       "      <td>t1_cqu80zb</td>\n",
       "    </tr>\n",
       "    <tr>\n",
       "      <th>3</th>\n",
       "      <td>1430438401</td>\n",
       "      <td>1.0</td>\n",
       "      <td>t3_34aqsn</td>\n",
       "      <td>t1_cqug91c</td>\n",
       "      <td>cqug91c</td>\n",
       "      <td>JuanTutrego</td>\n",
       "      <td>I'm a guy and I had no idea this was a thing g...</td>\n",
       "      <td>t1_cqtdj4m</td>\n",
       "    </tr>\n",
       "    <tr>\n",
       "      <th>4</th>\n",
       "      <td>1430438401</td>\n",
       "      <td>101.0</td>\n",
       "      <td>t3_34f9rh</td>\n",
       "      <td>t1_cqug91e</td>\n",
       "      <td>cqug91e</td>\n",
       "      <td>dcblackbelt</td>\n",
       "      <td>Mid twenties male rocking skinny jeans/pants, ...</td>\n",
       "      <td>t1_cquc4rc</td>\n",
       "    </tr>\n",
       "  </tbody>\n",
       "</table>\n",
       "</div>"
      ],
      "text/plain": [
       "   created_utc    ups    link_id        name       id          author  \\\n",
       "0   1430438400    3.0  t3_34f9rh  t1_cqug90j  cqug90j        jesse9o3   \n",
       "1   1430438400    3.0  t3_34fvry  t1_cqug90k  cqug90k  beltfedshooter   \n",
       "2   1430438400    5.0  t3_34ffo5  t1_cqug90z  cqug90z   InterimFatGuy   \n",
       "3   1430438401    1.0  t3_34aqsn  t1_cqug91c  cqug91c     JuanTutrego   \n",
       "4   1430438401  101.0  t3_34f9rh  t1_cqug91e  cqug91e     dcblackbelt   \n",
       "\n",
       "                                                body   parent_id  \n",
       "0  No one has a European accent either  because i...  t1_cqug2sr  \n",
       "1   That the kid ..reminds me of Kevin.   so sad :-(   t3_34fvry  \n",
       "2                                               NSFL  t1_cqu80zb  \n",
       "3  I'm a guy and I had no idea this was a thing g...  t1_cqtdj4m  \n",
       "4  Mid twenties male rocking skinny jeans/pants, ...  t1_cquc4rc  "
      ]
     },
     "execution_count": 5,
     "metadata": {},
     "output_type": "execute_result"
    }
   ],
   "source": [
    "df = df.drop([\"subreddit_id\",\"subreddit\"], axis=1)\n",
    "df.head()"
   ]
  },
  {
   "cell_type": "markdown",
   "metadata": {
    "id": "iolwqW1pLNcx"
   },
   "source": [
    "Check for missing values"
   ]
  },
  {
   "cell_type": "code",
   "execution_count": 6,
   "metadata": {
    "colab": {
     "base_uri": "https://localhost:8080/"
    },
    "id": "TB_zfQ9SLP7_",
    "outputId": "e3a78014-7a00-44cf-a784-4ce146672ce3"
   },
   "outputs": [
    {
     "name": "stdout",
     "output_type": "stream",
     "text": [
      "Is there any missing values? True\n"
     ]
    },
    {
     "data": {
      "text/plain": [
       "created_utc          0\n",
       "ups            1016458\n",
       "link_id              0\n",
       "name                 0\n",
       "id                   0\n",
       "author               0\n",
       "body                61\n",
       "parent_id            0\n",
       "dtype: int64"
      ]
     },
     "execution_count": 6,
     "metadata": {},
     "output_type": "execute_result"
    }
   ],
   "source": [
    "print('Is there any missing values?', df.isnull().values.any())\n",
    "df.isnull().sum()"
   ]
  },
  {
   "cell_type": "markdown",
   "metadata": {
    "id": "0z2cM6Z8Leq9"
   },
   "source": [
    "It is not surprising to find maybe missing values in `ups`. It indicates the rows corresponding to the test set.\n",
    "However, we will have to deal with the missing values in `body` in the text preprocessing part."
   ]
  },
  {
   "cell_type": "markdown",
   "metadata": {
    "id": "B3WLLFQJUgkP"
   },
   "source": [
    "### Test and train data separation"
   ]
  },
  {
   "cell_type": "markdown",
   "metadata": {
    "id": "yCCKSmmkZZcJ"
   },
   "source": [
    "Test data is when obsersation for variable ups is lacking.\n",
    "\n",
    "Train data is size 3 218 512 and test data is size 1 016 458."
   ]
  },
  {
   "cell_type": "code",
   "execution_count": 7,
   "metadata": {
    "id": "Y4gzOni-XT5-"
   },
   "outputs": [],
   "source": [
    "def test_split(dataset):\n",
    "    Test_DF = dataset[pd.isna(dataset.ups)]\n",
    "    return Test_DF\n",
    "\n",
    "def train_split(dataset):\n",
    "    Train_DF = dataset[pd.isna(dataset.ups) == False]\n",
    "    return Train_DF"
   ]
  },
  {
   "cell_type": "markdown",
   "metadata": {
    "id": "qB9W0FcTa8lF"
   },
   "source": [
    "## Data cleansing"
   ]
  },
  {
   "cell_type": "markdown",
   "metadata": {
    "id": "8WQiwYT2Mads"
   },
   "source": [
    "To evaluate the effect of variables on the score, we separate the data into two subgroups: \n",
    "\n",
    "\n",
    "*   Popular comments (=1): more than 2 upvotes (3rd quantile, 22.5% train sample)\n",
    "*   Average comments (=0): less or equal to 2 upvotes (77.5% train sample).\n",
    "\n",
    "For the NA (test sample), we put 99 for now.\n",
    "\n"
   ]
  },
  {
   "cell_type": "code",
   "execution_count": 8,
   "metadata": {
    "colab": {
     "base_uri": "https://localhost:8080/"
    },
    "id": "O3dbrBpTMwMg",
    "outputId": "673f7da5-4fd9-41da-ce5e-50510f2d412b"
   },
   "outputs": [
    {
     "data": {
      "text/plain": [
       "0     58.867359\n",
       "99    24.001540\n",
       "1     17.131101\n",
       "Name: popularity, dtype: float64"
      ]
     },
     "execution_count": 8,
     "metadata": {},
     "output_type": "execute_result"
    }
   ],
   "source": [
    "df[\"popularity\"] = np.where(df.ups > 2, 1, np.where(df.ups.isna(),99,0))\n",
    "df[\"popularity\"].value_counts()/len(df.ups)*100"
   ]
  },
  {
   "cell_type": "markdown",
   "metadata": {
    "id": "Vwj_7stfbGrh"
   },
   "source": [
    "### First look at the variables"
   ]
  },
  {
   "cell_type": "markdown",
   "metadata": {
    "id": "8g-CxASVfaIw"
   },
   "source": [
    "**UPS**"
   ]
  },
  {
   "cell_type": "markdown",
   "metadata": {
    "id": "3NlWgVsobN5N"
   },
   "source": [
    "UPS: variable to be predicted. The score of the comment = number of positive votes\n",
    "\n",
    "Quite a strange distribution, very long tailed at right(for high values) but also small left tail"
   ]
  },
  {
   "cell_type": "code",
   "execution_count": null,
   "metadata": {
    "colab": {
     "base_uri": "https://localhost:8080/",
     "height": 303
    },
    "id": "g3-Z9gptbE3K",
    "outputId": "47e28b31-8900-4194-a621-5d241975cda9"
   },
   "outputs": [],
   "source": [
    "pd.value_counts(df.ups[(df.ups < 10)&(df.ups > -5)]).plot(kind='bar')"
   ]
  },
  {
   "cell_type": "markdown",
   "metadata": {
    "id": "_oW3QTDMfdqw"
   },
   "source": [
    "**created_utc**"
   ]
  },
  {
   "cell_type": "markdown",
   "metadata": {
    "id": "DaPd3K1KfiNM"
   },
   "source": [
    "The time of creation in UTC epoch-second format. Note that neither of these ever have a non-zero fraction."
   ]
  },
  {
   "cell_type": "code",
   "execution_count": 9,
   "metadata": {
    "id": "EOKM3k56zNJK"
   },
   "outputs": [],
   "source": [
    "df[\"created_utc\"] = pd.to_datetime(df.created_utc,unit='s')"
   ]
  },
  {
   "cell_type": "code",
   "execution_count": 10,
   "metadata": {
    "id": "t9SSoDe5dgAV"
   },
   "outputs": [],
   "source": [
    "df['day'] = df[\"created_utc\"].dt.day"
   ]
  },
  {
   "cell_type": "markdown",
   "metadata": {
    "id": "qbGLM534O9Tu"
   },
   "source": [
    "The following graph is a bar plot of comments posted per day of May 2015:"
   ]
  },
  {
   "cell_type": "code",
   "execution_count": 11,
   "metadata": {
    "colab": {
     "base_uri": "https://localhost:8080/",
     "height": 299
    },
    "id": "VZlECU4kN92D",
    "outputId": "e6a910c5-30fa-4921-cae7-d80b58eeb963"
   },
   "outputs": [
    {
     "data": {
      "text/plain": [
       "<matplotlib.axes._subplots.AxesSubplot at 0x13e7c527130>"
      ]
     },
     "execution_count": 11,
     "metadata": {},
     "output_type": "execute_result"
    },
    {
     "data": {
      "image/png": "[encoded data removed]",
      "text/plain": [
       "<Figure size 432x288 with 1 Axes>"
      ]
     },
     "metadata": {
      "needs_background": "light"
     },
     "output_type": "display_data"
    }
   ],
   "source": [
    "comment_per_day = df.name.groupby(df['day']).count()\n",
    "comment_per_day.plot(kind='bar')"
   ]
  },
  {
   "cell_type": "markdown",
   "metadata": {
    "id": "NdLq6VTR5krJ"
   },
   "source": [
    "Overall, there is less traffic during the week end, meaning comments are more likely to be popular if they are posted during the week, especially on wednesday/tuesday/thrusday, because more people are likely to see them and upvote them. There also seems to be more comments posted by the end of the month.\n",
    "\n",
    "Let's check the repartition between test and train data:"
   ]
  },
  {
   "cell_type": "code",
   "execution_count": 12,
   "metadata": {
    "id": "w2--7qloLuci"
   },
   "outputs": [],
   "source": [
    "Test_DF = test_split(df)\n",
    "Train_DF = train_split(df)"
   ]
  },
  {
   "cell_type": "code",
   "execution_count": null,
   "metadata": {},
   "outputs": [],
   "source": [
    "comment_per_day_train = Train_DF.name.groupby(Train_DF['day']).count()\n",
    "comment_per_day_test = Test_DF.name.groupby(Test_DF['day']).count()"
   ]
  },
  {
   "cell_type": "code",
   "execution_count": 13,
   "metadata": {
    "colab": {
     "base_uri": "https://localhost:8080/",
     "height": 299
    },
    "id": "19-MSSjuL5qj",
    "outputId": "2bc697ae-d850-4322-9f23-9886b3171cff"
   },
   "outputs": [
    {
     "data": {
      "text/plain": [
       "<matplotlib.axes._subplots.AxesSubplot at 0x13e7dcf2a60>"
      ]
     },
     "execution_count": 13,
     "metadata": {},
     "output_type": "execute_result"
    },
    {
     "data": {
      "image/png": "[encoded data removed]",
      "text/plain": [
       "<Figure size 432x288 with 1 Axes>"
      ]
     },
     "metadata": {
      "needs_background": "light"
     },
     "output_type": "display_data"
    }
   ],
   "source": [
    "comment_per_day_train.plot(kind='bar')"
   ]
  },
  {
   "cell_type": "code",
   "execution_count": 15,
   "metadata": {
    "colab": {
     "base_uri": "https://localhost:8080/",
     "height": 299
    },
    "id": "uEcZY3_PL9Uc",
    "outputId": "bb77f6b0-2157-400e-8484-b7c7071a0cfc"
   },
   "outputs": [
    {
     "data": {
      "text/plain": [
       "<matplotlib.axes._subplots.AxesSubplot at 0x13e7de05e20>"
      ]
     },
     "execution_count": 15,
     "metadata": {},
     "output_type": "execute_result"
    },
    {
     "data": {
      "image/png": "[encoded data removed]",
      "text/plain": [
       "<Figure size 432x288 with 1 Axes>"
      ]
     },
     "metadata": {
      "needs_background": "light"
     },
     "output_type": "display_data"
    }
   ],
   "source": [
    "comment_per_day_test.plot(kind='bar')"
   ]
  },
  {
   "cell_type": "markdown",
   "metadata": {
    "id": "o14oOB0tNj1Y"
   },
   "source": [
    "It seems that the test set is actually the comments from the last week of May 2015, while the train data is the comments from the 3 first weeks. As in the train data we will never observe the values 25 to 31, we need to transform this variable. We transform it to \"day of the week\". The pattern during the last week of May does seem different though, so it maybe another splitting of this dataset could have been done."
   ]
  },
  {
   "cell_type": "code",
   "execution_count": 16,
   "metadata": {
    "colab": {
     "base_uri": "https://localhost:8080/",
     "height": 295
    },
    "id": "hpL8WUWSr4a0",
    "outputId": "eda4e730-efc3-49aa-c1f9-303c42002b2e"
   },
   "outputs": [
    {
     "data": {
      "text/plain": [
       "<matplotlib.axes._subplots.AxesSubplot at 0x13e7de6fa60>"
      ]
     },
     "execution_count": 16,
     "metadata": {},
     "output_type": "execute_result"
    },
    {
     "data": {
      "image/png": "[encoded data removed]",
      "text/plain": [
       "<Figure size 432x288 with 1 Axes>"
      ]
     },
     "metadata": {
      "needs_background": "light"
     },
     "output_type": "display_data"
    }
   ],
   "source": [
    "monday = [4,11,18,25]\n",
    "tuesday = [5,12,19,26]\n",
    "wednesday = [6,13,20,27]\n",
    "thursday = [7,14,21,28]\n",
    "friday = [1,8,15,22,29]\n",
    "saturday = [2,9,16,23,30]\n",
    "sunday = [3,10,17,24,31]\n",
    "\n",
    "df['day_week'] = np.where(df.day.isin(monday),1,\n",
    "                          np.where(df.day.isin(tuesday),2,\n",
    "                                   np.where(df.day.isin(wednesday),3,\n",
    "                                            np.where(df.day.isin(thursday),4,\n",
    "                                                     np.where(df.day.isin(friday),5,\n",
    "                                                              np.where(df.day.isin(saturday),6,\n",
    "                                                                       np.where(df.day.isin(sunday),7,'OK')))))))\n",
    "df.name.groupby(df.day_week).count().plot(kind='bar')"
   ]
  },
  {
   "cell_type": "markdown",
   "metadata": {
    "id": "bL-nQV_gr4p5"
   },
   "source": [
    "Friday is the day with the most traffic. There is not so much trafic on the week-end and on monday"
   ]
  },
  {
   "cell_type": "code",
   "execution_count": 17,
   "metadata": {
    "id": "VzXo42zpzjBQ"
   },
   "outputs": [],
   "source": [
    "df[\"monday\"] = np.where(df[\"day_week\"] == \"1\", 1, 0)\n",
    "df[\"tuesday\"] = np.where(df[\"day_week\"] == \"2\", 1, 0)\n",
    "df[\"wednesday\"] = np.where(df[\"day_week\"] == \"3\", 1, 0)\n",
    "df[\"thursday\"] = np.where(df[\"day_week\"] == \"4\", 1, 0)\n",
    "df[\"friday\"] = np.where(df[\"day_week\"] == \"5\", 1, 0)\n",
    "df[\"saturday\"] = np.where(df[\"day_week\"] == \"6\", 1, 0)\n",
    "df[\"sunday\"] = np.where(df[\"day_week\"] == \"7\", 1, 0)\n",
    "\n",
    "df.day_week = df.day_week.astype(str)"
   ]
  },
  {
   "cell_type": "markdown",
   "metadata": {
    "id": "Zq2h9UmkSuWr"
   },
   "source": [
    "Let's do the same analysis on hour of the day. It seems that the hours with the most traffic are from 2PM to 2AM. The traffic drastically slows down during morning and noon."
   ]
  },
  {
   "cell_type": "code",
   "execution_count": 18,
   "metadata": {
    "colab": {
     "base_uri": "https://localhost:8080/",
     "height": 299
    },
    "id": "fCGiy9ZBSzkg",
    "outputId": "9029c47d-310a-49a1-d42e-cf15db5ed015"
   },
   "outputs": [
    {
     "data": {
      "text/plain": [
       "<matplotlib.axes._subplots.AxesSubplot at 0x13e7de48ac0>"
      ]
     },
     "execution_count": 18,
     "metadata": {},
     "output_type": "execute_result"
    },
    {
     "data": {
      "image/png": "[encoded data removed]",
      "text/plain": [
       "<Figure size 432x288 with 1 Axes>"
      ]
     },
     "metadata": {
      "needs_background": "light"
     },
     "output_type": "display_data"
    }
   ],
   "source": [
    "df['hour'] = df[\"created_utc\"].dt.hour\n",
    "df.name.groupby(df.hour).count().plot(kind='bar')"
   ]
  },
  {
   "cell_type": "markdown",
   "metadata": {
    "id": "QMnxgyhuikzP"
   },
   "source": [
    "We drop the unneeded variables :"
   ]
  },
  {
   "cell_type": "code",
   "execution_count": 19,
   "metadata": {
    "id": "O9eoagqYiqtt"
   },
   "outputs": [],
   "source": [
    "df = df.drop([\"day\"], axis=1)"
   ]
  },
  {
   "cell_type": "markdown",
   "metadata": {
    "id": "s0ZhjV2xBM7f"
   },
   "source": [
    "### Network"
   ]
  },
  {
   "cell_type": "markdown",
   "metadata": {
    "id": "ApdOOp16J0ig"
   },
   "source": [
    "**The author of the post**\n",
    "\n",
    "People with high popularity or well-known in the subreddit might better scores. Let's have a look"
   ]
  },
  {
   "cell_type": "code",
   "execution_count": null,
   "metadata": {
    "colab": {
     "base_uri": "https://localhost:8080/"
    },
    "id": "zlTVfGXjKBCr",
    "outputId": "4e7cd7b4-0cd6-4c7c-8873-f20ffa774aad"
   },
   "outputs": [],
   "source": [
    "print(\"There are\",len(set(df.author)),\"unique authors in the subreddit.\")"
   ]
  },
  {
   "cell_type": "markdown",
   "metadata": {
    "id": "54EVEHRtOrEI"
   },
   "source": [
    "Creation of a data base at the level of the author"
   ]
  },
  {
   "cell_type": "code",
   "execution_count": 20,
   "metadata": {
    "id": "HAHou1OWOGcX"
   },
   "outputs": [],
   "source": [
    " data_agg = df.groupby(\"author\", as_index=False).agg({\"ups\": [\"sum\",\"mean\"],\n",
    "                                                            \"body\": [\"count\"],\n",
    "                                                            \"popularity\":[\"sum\"]})"
   ]
  },
  {
   "cell_type": "markdown",
   "metadata": {
    "id": "u5NBxpX6YeJ6"
   },
   "source": [
    "We create an active member index such as :\n",
    "\n",
    "\n",
    "*   active_user = 1 : number of posts > 4, number of popular comments > 1\n",
    "*   active_user = 2 : number of posts <= 4, number of popular comments > 1\n",
    "*   active_user = 3 : number of posts > 4, number of popular comments <= 1\n",
    "*   active_user = 4 : number of posts <= 4, number of popular comments <= 1\n",
    "\n",
    "This enables us to distinguish the popular and active users (post a lot, get a lot upvotes), the popular but not so active users (post averagly, get lots of upvotes), the not popular but active user, and the not popular and not active user.\n",
    "\n",
    "The thresholds that are used here are the 3rd quantiles at the user level.\n",
    "\n",
    "\n",
    "\n"
   ]
  },
  {
   "cell_type": "code",
   "execution_count": 21,
   "metadata": {
    "colab": {
     "base_uri": "https://localhost:8080/"
    },
    "id": "TtNxpSpVRT-A",
    "outputId": "570e7be4-831d-4a88-a0d0-bb4ddc1895d5"
   },
   "outputs": [
    {
     "data": {
      "text/plain": [
       "4    47.129403\n",
       "2    31.118120\n",
       "1    19.466302\n",
       "3     2.286175\n",
       "Name: active_user, dtype: float64"
      ]
     },
     "execution_count": 21,
     "metadata": {},
     "output_type": "execute_result"
    }
   ],
   "source": [
    "data_agg[\"active_user\"] = np.where(data_agg.popularity[\"sum\"] > 1,\n",
    "                                   np.where(data_agg.body[\"count\"] > 5, 1, 2),\n",
    "                                   np.where(data_agg.body[\"count\"] > 5, 3, 4))\n",
    "data_agg[\"active_user\"].value_counts()/len(data_agg[\"active_user\"])*100"
   ]
  },
  {
   "cell_type": "code",
   "execution_count": 22,
   "metadata": {
    "colab": {
     "base_uri": "https://localhost:8080/",
     "height": 294
    },
    "id": "5rW9vuXeP94C",
    "outputId": "6a3230fc-93e4-47c9-f82a-dcfffd935129"
   },
   "outputs": [
    {
     "data": {
      "text/html": [
       "<div>\n",
       "<style scoped>\n",
       "    .dataframe tbody tr th:only-of-type {\n",
       "        vertical-align: middle;\n",
       "    }\n",
       "\n",
       "    .dataframe tbody tr th {\n",
       "        vertical-align: top;\n",
       "    }\n",
       "\n",
       "    .dataframe thead th {\n",
       "        text-align: right;\n",
       "    }\n",
       "</style>\n",
       "<table border=\"1\" class=\"dataframe\">\n",
       "  <thead>\n",
       "    <tr style=\"text-align: right;\">\n",
       "      <th></th>\n",
       "      <th>ups_sum</th>\n",
       "      <th>ups_mean</th>\n",
       "      <th>body_count</th>\n",
       "      <th>popularity_sum</th>\n",
       "      <th>active_user_</th>\n",
       "    </tr>\n",
       "  </thead>\n",
       "  <tbody>\n",
       "    <tr>\n",
       "      <th>count</th>\n",
       "      <td>5.707350e+05</td>\n",
       "      <td>471565.000000</td>\n",
       "      <td>570735.000000</td>\n",
       "      <td>5.707350e+05</td>\n",
       "      <td>570735.000000</td>\n",
       "    </tr>\n",
       "    <tr>\n",
       "      <th>mean</th>\n",
       "      <td>7.184664e+01</td>\n",
       "      <td>12.268588</td>\n",
       "      <td>7.420097</td>\n",
       "      <td>1.775865e+02</td>\n",
       "      <td>2.770787</td>\n",
       "    </tr>\n",
       "    <tr>\n",
       "      <th>std</th>\n",
       "      <td>1.613216e+03</td>\n",
       "      <td>91.238355</td>\n",
       "      <td>417.002033</td>\n",
       "      <td>8.343958e+03</td>\n",
       "      <td>1.228247</td>\n",
       "    </tr>\n",
       "    <tr>\n",
       "      <th>min</th>\n",
       "      <td>-1.752000e+03</td>\n",
       "      <td>-104.000000</td>\n",
       "      <td>0.000000</td>\n",
       "      <td>0.000000e+00</td>\n",
       "      <td>1.000000</td>\n",
       "    </tr>\n",
       "    <tr>\n",
       "      <th>25%</th>\n",
       "      <td>1.000000e+00</td>\n",
       "      <td>1.000000</td>\n",
       "      <td>1.000000</td>\n",
       "      <td>0.000000e+00</td>\n",
       "      <td>2.000000</td>\n",
       "    </tr>\n",
       "    <tr>\n",
       "      <th>50%</th>\n",
       "      <td>2.000000e+00</td>\n",
       "      <td>1.500000</td>\n",
       "      <td>2.000000</td>\n",
       "      <td>2.000000e+00</td>\n",
       "      <td>2.000000</td>\n",
       "    </tr>\n",
       "    <tr>\n",
       "      <th>75%</th>\n",
       "      <td>1.000000e+01</td>\n",
       "      <td>3.263158</td>\n",
       "      <td>5.000000</td>\n",
       "      <td>1.000000e+02</td>\n",
       "      <td>4.000000</td>\n",
       "    </tr>\n",
       "    <tr>\n",
       "      <th>max</th>\n",
       "      <td>1.144053e+06</td>\n",
       "      <td>5403.000000</td>\n",
       "      <td>312007.000000</td>\n",
       "      <td>6.220793e+06</td>\n",
       "      <td>4.000000</td>\n",
       "    </tr>\n",
       "  </tbody>\n",
       "</table>\n",
       "</div>"
      ],
      "text/plain": [
       "            ups_sum       ups_mean     body_count  popularity_sum  \\\n",
       "count  5.707350e+05  471565.000000  570735.000000    5.707350e+05   \n",
       "mean   7.184664e+01      12.268588       7.420097    1.775865e+02   \n",
       "std    1.613216e+03      91.238355     417.002033    8.343958e+03   \n",
       "min   -1.752000e+03    -104.000000       0.000000    0.000000e+00   \n",
       "25%    1.000000e+00       1.000000       1.000000    0.000000e+00   \n",
       "50%    2.000000e+00       1.500000       2.000000    2.000000e+00   \n",
       "75%    1.000000e+01       3.263158       5.000000    1.000000e+02   \n",
       "max    1.144053e+06    5403.000000  312007.000000    6.220793e+06   \n",
       "\n",
       "        active_user_  \n",
       "count  570735.000000  \n",
       "mean        2.770787  \n",
       "std         1.228247  \n",
       "min         1.000000  \n",
       "25%         2.000000  \n",
       "50%         2.000000  \n",
       "75%         4.000000  \n",
       "max         4.000000  "
      ]
     },
     "execution_count": 22,
     "metadata": {},
     "output_type": "execute_result"
    }
   ],
   "source": [
    "data_agg.columns = ['_'.join(col).strip() for col in data_agg.columns.values]\n",
    "data_agg.describe()"
   ]
  },
  {
   "cell_type": "code",
   "execution_count": 23,
   "metadata": {
    "colab": {
     "base_uri": "https://localhost:8080/",
     "height": 253
    },
    "id": "RRG2INzGV6DX",
    "outputId": "9f59a980-b85c-4ea5-9a7e-1d8590988e25"
   },
   "outputs": [
    {
     "data": {
      "text/html": [
       "<div>\n",
       "<style scoped>\n",
       "    .dataframe tbody tr th:only-of-type {\n",
       "        vertical-align: middle;\n",
       "    }\n",
       "\n",
       "    .dataframe tbody tr th {\n",
       "        vertical-align: top;\n",
       "    }\n",
       "\n",
       "    .dataframe thead tr th {\n",
       "        text-align: left;\n",
       "    }\n",
       "\n",
       "    .dataframe thead tr:last-of-type th {\n",
       "        text-align: right;\n",
       "    }\n",
       "</style>\n",
       "<table border=\"1\" class=\"dataframe\">\n",
       "  <thead>\n",
       "    <tr>\n",
       "      <th></th>\n",
       "      <th colspan=\"5\" halign=\"left\">ups_sum</th>\n",
       "      <th colspan=\"5\" halign=\"left\">body_count</th>\n",
       "      <th colspan=\"5\" halign=\"left\">popularity_sum</th>\n",
       "    </tr>\n",
       "    <tr>\n",
       "      <th></th>\n",
       "      <th>sum</th>\n",
       "      <th>mean</th>\n",
       "      <th>median</th>\n",
       "      <th>min</th>\n",
       "      <th>max</th>\n",
       "      <th>sum</th>\n",
       "      <th>mean</th>\n",
       "      <th>median</th>\n",
       "      <th>min</th>\n",
       "      <th>max</th>\n",
       "      <th>sum</th>\n",
       "      <th>mean</th>\n",
       "      <th>median</th>\n",
       "      <th>min</th>\n",
       "      <th>max</th>\n",
       "    </tr>\n",
       "    <tr>\n",
       "      <th>active_user_</th>\n",
       "      <th></th>\n",
       "      <th></th>\n",
       "      <th></th>\n",
       "      <th></th>\n",
       "      <th></th>\n",
       "      <th></th>\n",
       "      <th></th>\n",
       "      <th></th>\n",
       "      <th></th>\n",
       "      <th></th>\n",
       "      <th></th>\n",
       "      <th></th>\n",
       "      <th></th>\n",
       "      <th></th>\n",
       "      <th></th>\n",
       "    </tr>\n",
       "  </thead>\n",
       "  <tbody>\n",
       "    <tr>\n",
       "      <th>1</th>\n",
       "      <td>33194788.0</td>\n",
       "      <td>298.780281</td>\n",
       "      <td>33.0</td>\n",
       "      <td>-1752.0</td>\n",
       "      <td>1144053.0</td>\n",
       "      <td>3291096</td>\n",
       "      <td>29.622560</td>\n",
       "      <td>13</td>\n",
       "      <td>6</td>\n",
       "      <td>312007</td>\n",
       "      <td>79168920</td>\n",
       "      <td>712.585125</td>\n",
       "      <td>298</td>\n",
       "      <td>2</td>\n",
       "      <td>6220793</td>\n",
       "    </tr>\n",
       "    <tr>\n",
       "      <th>2</th>\n",
       "      <td>3766335.0</td>\n",
       "      <td>21.206602</td>\n",
       "      <td>0.0</td>\n",
       "      <td>-122.0</td>\n",
       "      <td>8912.0</td>\n",
       "      <td>398002</td>\n",
       "      <td>2.240977</td>\n",
       "      <td>2</td>\n",
       "      <td>0</td>\n",
       "      <td>5</td>\n",
       "      <td>22107920</td>\n",
       "      <td>124.480130</td>\n",
       "      <td>99</td>\n",
       "      <td>2</td>\n",
       "      <td>495</td>\n",
       "    </tr>\n",
       "    <tr>\n",
       "      <th>3</th>\n",
       "      <td>451127.0</td>\n",
       "      <td>34.574418</td>\n",
       "      <td>11.0</td>\n",
       "      <td>-409.0</td>\n",
       "      <td>5568.0</td>\n",
       "      <td>117942</td>\n",
       "      <td>9.039086</td>\n",
       "      <td>7</td>\n",
       "      <td>6</td>\n",
       "      <td>161</td>\n",
       "      <td>7091</td>\n",
       "      <td>0.543455</td>\n",
       "      <td>1</td>\n",
       "      <td>0</td>\n",
       "      <td>1</td>\n",
       "    </tr>\n",
       "    <tr>\n",
       "      <th>4</th>\n",
       "      <td>3593143.0</td>\n",
       "      <td>13.358203</td>\n",
       "      <td>2.0</td>\n",
       "      <td>-165.0</td>\n",
       "      <td>5669.0</td>\n",
       "      <td>427869</td>\n",
       "      <td>1.590686</td>\n",
       "      <td>1</td>\n",
       "      <td>0</td>\n",
       "      <td>5</td>\n",
       "      <td>70908</td>\n",
       "      <td>0.263614</td>\n",
       "      <td>0</td>\n",
       "      <td>0</td>\n",
       "      <td>1</td>\n",
       "    </tr>\n",
       "  </tbody>\n",
       "</table>\n",
       "</div>"
      ],
      "text/plain": [
       "                 ups_sum                                       body_count  \\\n",
       "                     sum        mean median     min        max        sum   \n",
       "active_user_                                                                \n",
       "1             33194788.0  298.780281   33.0 -1752.0  1144053.0    3291096   \n",
       "2              3766335.0   21.206602    0.0  -122.0     8912.0     398002   \n",
       "3               451127.0   34.574418   11.0  -409.0     5568.0     117942   \n",
       "4              3593143.0   13.358203    2.0  -165.0     5669.0     427869   \n",
       "\n",
       "                                           popularity_sum                     \\\n",
       "                   mean median min     max            sum        mean median   \n",
       "active_user_                                                                   \n",
       "1             29.622560     13   6  312007       79168920  712.585125    298   \n",
       "2              2.240977      2   0       5       22107920  124.480130     99   \n",
       "3              9.039086      7   6     161           7091    0.543455      1   \n",
       "4              1.590686      1   0       5          70908    0.263614      0   \n",
       "\n",
       "                           \n",
       "             min      max  \n",
       "active_user_               \n",
       "1              2  6220793  \n",
       "2              2      495  \n",
       "3              0        1  \n",
       "4              0        1  "
      ]
     },
     "execution_count": 23,
     "metadata": {},
     "output_type": "execute_result"
    }
   ],
   "source": [
    "data_agg.groupby(\"active_user_\").agg({\"ups_sum\": [\"sum\",\"mean\",\"median\",\"min\",\"max\"],\"body_count\": [\"sum\",\"mean\",\"median\",\"min\",\"max\"],\n",
    "                                       \"popularity_sum\":[\"sum\",\"mean\",\"median\",\"min\",\"max\"]})"
   ]
  },
  {
   "cell_type": "markdown",
   "metadata": {
    "id": "824T6ssEXPB6"
   },
   "source": [
    "We can see a real difference of score and number of comment posted between the four groups\n",
    "This is basically like finding the active members of the subreddit.\n",
    "\n",
    "Now we mark the active users in the train database."
   ]
  },
  {
   "cell_type": "code",
   "execution_count": 24,
   "metadata": {
    "id": "Gu-_rncEcGqs"
   },
   "outputs": [],
   "source": [
    "classification_active_user =  data_agg[['author_', 'active_user_','ups_mean']].copy()\n",
    "classification_active_user.rename(columns={'author_': 'author'}, inplace=True)"
   ]
  },
  {
   "cell_type": "code",
   "execution_count": 25,
   "metadata": {
    "colab": {
     "base_uri": "https://localhost:8080/",
     "height": 534
    },
    "id": "SwQ67uSucq93",
    "outputId": "14472839-ab6c-4ff5-8b97-5372c27b8a07"
   },
   "outputs": [
    {
     "data": {
      "text/html": [
       "<div>\n",
       "<style scoped>\n",
       "    .dataframe tbody tr th:only-of-type {\n",
       "        vertical-align: middle;\n",
       "    }\n",
       "\n",
       "    .dataframe tbody tr th {\n",
       "        vertical-align: top;\n",
       "    }\n",
       "\n",
       "    .dataframe thead th {\n",
       "        text-align: right;\n",
       "    }\n",
       "</style>\n",
       "<table border=\"1\" class=\"dataframe\">\n",
       "  <thead>\n",
       "    <tr style=\"text-align: right;\">\n",
       "      <th></th>\n",
       "      <th>created_utc</th>\n",
       "      <th>ups</th>\n",
       "      <th>link_id</th>\n",
       "      <th>name</th>\n",
       "      <th>id</th>\n",
       "      <th>author</th>\n",
       "      <th>body</th>\n",
       "      <th>parent_id</th>\n",
       "      <th>popularity</th>\n",
       "      <th>day_week</th>\n",
       "      <th>monday</th>\n",
       "      <th>tuesday</th>\n",
       "      <th>wednesday</th>\n",
       "      <th>thursday</th>\n",
       "      <th>friday</th>\n",
       "      <th>saturday</th>\n",
       "      <th>sunday</th>\n",
       "      <th>hour</th>\n",
       "      <th>active_user_</th>\n",
       "      <th>ups_mean</th>\n",
       "    </tr>\n",
       "  </thead>\n",
       "  <tbody>\n",
       "    <tr>\n",
       "      <th>0</th>\n",
       "      <td>2015-05-01 00:00:00</td>\n",
       "      <td>3.0</td>\n",
       "      <td>t3_34f9rh</td>\n",
       "      <td>t1_cqug90j</td>\n",
       "      <td>cqug90j</td>\n",
       "      <td>jesse9o3</td>\n",
       "      <td>No one has a European accent either  because i...</td>\n",
       "      <td>t1_cqug2sr</td>\n",
       "      <td>1</td>\n",
       "      <td>5</td>\n",
       "      <td>0</td>\n",
       "      <td>0</td>\n",
       "      <td>0</td>\n",
       "      <td>0</td>\n",
       "      <td>1</td>\n",
       "      <td>0</td>\n",
       "      <td>0</td>\n",
       "      <td>0</td>\n",
       "      <td>1</td>\n",
       "      <td>18.702703</td>\n",
       "    </tr>\n",
       "    <tr>\n",
       "      <th>1</th>\n",
       "      <td>2015-05-01 00:05:40</td>\n",
       "      <td>1.0</td>\n",
       "      <td>t3_34f9rh</td>\n",
       "      <td>t1_cqugg3k</td>\n",
       "      <td>cqugg3k</td>\n",
       "      <td>jesse9o3</td>\n",
       "      <td>Of the 26th letter of the Alphabet</td>\n",
       "      <td>t1_cquga1h</td>\n",
       "      <td>0</td>\n",
       "      <td>5</td>\n",
       "      <td>0</td>\n",
       "      <td>0</td>\n",
       "      <td>0</td>\n",
       "      <td>0</td>\n",
       "      <td>1</td>\n",
       "      <td>0</td>\n",
       "      <td>0</td>\n",
       "      <td>0</td>\n",
       "      <td>1</td>\n",
       "      <td>18.702703</td>\n",
       "    </tr>\n",
       "    <tr>\n",
       "      <th>2</th>\n",
       "      <td>2015-05-01 00:25:57</td>\n",
       "      <td>2.0</td>\n",
       "      <td>t3_34f9rh</td>\n",
       "      <td>t1_cquh7b2</td>\n",
       "      <td>cquh7b2</td>\n",
       "      <td>jesse9o3</td>\n",
       "      <td>Pretty much every country in North/South Ameri...</td>\n",
       "      <td>t1_cqugq6h</td>\n",
       "      <td>0</td>\n",
       "      <td>5</td>\n",
       "      <td>0</td>\n",
       "      <td>0</td>\n",
       "      <td>0</td>\n",
       "      <td>0</td>\n",
       "      <td>1</td>\n",
       "      <td>0</td>\n",
       "      <td>0</td>\n",
       "      <td>0</td>\n",
       "      <td>1</td>\n",
       "      <td>18.702703</td>\n",
       "    </tr>\n",
       "    <tr>\n",
       "      <th>3</th>\n",
       "      <td>2015-05-01 00:29:54</td>\n",
       "      <td>1.0</td>\n",
       "      <td>t3_34f9rh</td>\n",
       "      <td>t1_cquhclb</td>\n",
       "      <td>cquhclb</td>\n",
       "      <td>jesse9o3</td>\n",
       "      <td>People that don't wear socks here are odd, mos...</td>\n",
       "      <td>t1_cqugmda</td>\n",
       "      <td>0</td>\n",
       "      <td>5</td>\n",
       "      <td>0</td>\n",
       "      <td>0</td>\n",
       "      <td>0</td>\n",
       "      <td>0</td>\n",
       "      <td>1</td>\n",
       "      <td>0</td>\n",
       "      <td>0</td>\n",
       "      <td>0</td>\n",
       "      <td>1</td>\n",
       "      <td>18.702703</td>\n",
       "    </tr>\n",
       "    <tr>\n",
       "      <th>4</th>\n",
       "      <td>2015-05-01 13:54:02</td>\n",
       "      <td>1.0</td>\n",
       "      <td>t3_34f9rh</td>\n",
       "      <td>t1_cquzkrz</td>\n",
       "      <td>cquzkrz</td>\n",
       "      <td>jesse9o3</td>\n",
       "      <td>A stone is just 14 pounds, and even then it's ...</td>\n",
       "      <td>t1_cquohq1</td>\n",
       "      <td>0</td>\n",
       "      <td>5</td>\n",
       "      <td>0</td>\n",
       "      <td>0</td>\n",
       "      <td>0</td>\n",
       "      <td>0</td>\n",
       "      <td>1</td>\n",
       "      <td>0</td>\n",
       "      <td>0</td>\n",
       "      <td>13</td>\n",
       "      <td>1</td>\n",
       "      <td>18.702703</td>\n",
       "    </tr>\n",
       "  </tbody>\n",
       "</table>\n",
       "</div>"
      ],
      "text/plain": [
       "          created_utc  ups    link_id        name       id    author  \\\n",
       "0 2015-05-01 00:00:00  3.0  t3_34f9rh  t1_cqug90j  cqug90j  jesse9o3   \n",
       "1 2015-05-01 00:05:40  1.0  t3_34f9rh  t1_cqugg3k  cqugg3k  jesse9o3   \n",
       "2 2015-05-01 00:25:57  2.0  t3_34f9rh  t1_cquh7b2  cquh7b2  jesse9o3   \n",
       "3 2015-05-01 00:29:54  1.0  t3_34f9rh  t1_cquhclb  cquhclb  jesse9o3   \n",
       "4 2015-05-01 13:54:02  1.0  t3_34f9rh  t1_cquzkrz  cquzkrz  jesse9o3   \n",
       "\n",
       "                                                body   parent_id  popularity  \\\n",
       "0  No one has a European accent either  because i...  t1_cqug2sr           1   \n",
       "1                 Of the 26th letter of the Alphabet  t1_cquga1h           0   \n",
       "2  Pretty much every country in North/South Ameri...  t1_cqugq6h           0   \n",
       "3  People that don't wear socks here are odd, mos...  t1_cqugmda           0   \n",
       "4  A stone is just 14 pounds, and even then it's ...  t1_cquohq1           0   \n",
       "\n",
       "  day_week  monday  tuesday  wednesday  thursday  friday  saturday  sunday  \\\n",
       "0        5       0        0          0         0       1         0       0   \n",
       "1        5       0        0          0         0       1         0       0   \n",
       "2        5       0        0          0         0       1         0       0   \n",
       "3        5       0        0          0         0       1         0       0   \n",
       "4        5       0        0          0         0       1         0       0   \n",
       "\n",
       "   hour  active_user_   ups_mean  \n",
       "0     0             1  18.702703  \n",
       "1     0             1  18.702703  \n",
       "2     0             1  18.702703  \n",
       "3     0             1  18.702703  \n",
       "4    13             1  18.702703  "
      ]
     },
     "execution_count": 25,
     "metadata": {},
     "output_type": "execute_result"
    }
   ],
   "source": [
    "df = pd.merge(df,classification_active_user,on='author',how='outer')\n",
    "df.head()"
   ]
  },
  {
   "cell_type": "code",
   "execution_count": 26,
   "metadata": {
    "id": "qHh_dIOJfDtC"
   },
   "outputs": [],
   "source": [
    "df[\"active_user1\"] = np.where(df[\"active_user_\"] == 1, 1, 0)\n",
    "df[\"active_user2\"] = np.where(df[\"active_user_\"] == 2, 1, 0)\n",
    "df[\"active_user3\"] = np.where(df[\"active_user_\"] == 3, 1, 0)\n",
    "df[\"active_user4\"] = np.where(df[\"active_user_\"] == 4, 1, 0)\n",
    "\n",
    "df = df.drop([\"active_user_\"], axis=1)"
   ]
  },
  {
   "cell_type": "code",
   "execution_count": 27,
   "metadata": {
    "id": "KrXsCDrrmo8S"
   },
   "outputs": [],
   "source": [
    "df['ups_mean'] = df['ups_mean'].fillna(0)"
   ]
  },
  {
   "cell_type": "markdown",
   "metadata": {
    "id": "ukI2uehlfzP0"
   },
   "source": [
    "**Find the parent commentary**"
   ]
  },
  {
   "cell_type": "markdown",
   "metadata": {
    "id": "97f_wUbSf2zg"
   },
   "source": [
    "Each comment has a parent (parent_id). Its parent is either another comment or a link. Thus if parent_id = link_id, this means that the comment is related to the link.\n",
    "It is important to note that you do not have any information about the link itself in the dataset.\n",
    "\n",
    "According to reddit API: t1 is a comment, t3 is a link\n",
    "\n",
    "Variables que j'aimerais intégrer:\n",
    "*   Score du parent\n",
    "*   Classification de l'auteur du parent\n",
    "*   Temps depuis que le parent a été posté\n",
    "*   Élément de liste"
   ]
  },
  {
   "cell_type": "markdown",
   "metadata": {
    "id": "mm3OF8WLuY28"
   },
   "source": [
    "All rows are comment but not all parent are comment, some are links. There are 1 284 797 observations linked to a link, on which we have no information. When an observation is linked to a link, we sistematically have parent_id = link_id"
   ]
  },
  {
   "cell_type": "markdown",
   "metadata": {
    "id": "GvxFsr8Vvtf6"
   },
   "source": [
    "link_id is the submission. parent_id is the parent of the comment. It could be another comment or it could be the submission if the comment is a top level comment.\n",
    "\n",
    "Links start with t3_, comments start with t1_. So yeah, link_id will always start with t3_. If the parent_id starts with t3_, or if it matches the link_id, then you know it's a top level comment.\n",
    "For each link, there can be several top comments"
   ]
  },
  {
   "cell_type": "code",
   "execution_count": null,
   "metadata": {
    "colab": {
     "base_uri": "https://localhost:8080/"
    },
    "id": "69txN4OBnymC",
    "outputId": "bbf4f409-c97a-4067-9d45-fe8f8e526f08"
   },
   "outputs": [],
   "source": [
    "print(df.name.astype(str).str[0:2].value_counts())\n",
    "print(df.parent_id.astype(str).str[0:2].value_counts())\n",
    "print(df.link_id.astype(str).str[0:2].value_counts())"
   ]
  },
  {
   "cell_type": "code",
   "execution_count": 28,
   "metadata": {
    "colab": {
     "base_uri": "https://localhost:8080/"
    },
    "id": "UkqUSt9hu_0m",
    "outputId": "5e6647d6-6b57-4a33-e7f6-3681b578dda7"
   },
   "outputs": [
    {
     "data": {
      "text/plain": [
       "(1702209, 23)"
      ]
     },
     "execution_count": 28,
     "metadata": {},
     "output_type": "execute_result"
    }
   ],
   "source": [
    "df[df.link_id == df.parent_id].shape"
   ]
  },
  {
   "cell_type": "markdown",
   "metadata": {
    "id": "Gjb_YmprxZAg"
   },
   "source": [
    "First of all, we indicate top comments:"
   ]
  },
  {
   "cell_type": "code",
   "execution_count": 29,
   "metadata": {
    "colab": {
     "base_uri": "https://localhost:8080/"
    },
    "id": "Ptq_i-5zdXVQ",
    "outputId": "53fa3ad6-90b4-4165-c1c0-ae0139e76b42"
   },
   "outputs": [
    {
     "data": {
      "text/plain": [
       "0    2532761\n",
       "1    1702209\n",
       "Name: top_comment, dtype: int64"
      ]
     },
     "execution_count": 29,
     "metadata": {},
     "output_type": "execute_result"
    }
   ],
   "source": [
    "df[\"top_comment\"] = np.where(df.parent_id.astype(str).str[0:2] == \"t3\", 1, 0)\n",
    "df[\"top_comment\"].value_counts()"
   ]
  },
  {
   "cell_type": "markdown",
   "metadata": {
    "id": "Q72EOzpgy-Al"
   },
   "source": [
    "**Create hierarchie through comment**"
   ]
  },
  {
   "cell_type": "code",
   "execution_count": 30,
   "metadata": {
    "id": "pRZyLcO5iJj6"
   },
   "outputs": [],
   "source": [
    "df[\"rank_comment\"] = 0\n",
    "comment_to_keep = list(set(df.name[df.top_comment == 1]))\n",
    "for i in range(1,500):\n",
    "    if i == 1:\n",
    "        df[\"rank_comment\"] = np.where(df.name.isin(comment_to_keep), 1, df[\"rank_comment\"])\n",
    "    else:\n",
    "        df[\"rank_comment\"] = np.where(df.parent_id.isin(comment_to_keep), i, df[\"rank_comment\"])\n",
    "        comment_to_keep = list(set(df.name[df[\"rank_comment\"] == i]))"
   ]
  },
  {
   "cell_type": "code",
   "execution_count": null,
   "metadata": {
    "colab": {
     "base_uri": "https://localhost:8080/",
     "height": 314
    },
    "id": "9QwS204Opp_c",
    "outputId": "f67889a4-eb41-4aa5-b97b-c955ac98fee0"
   },
   "outputs": [],
   "source": [
    "df.ups.groupby(df.rank_comment[df[\"rank_comment\"] < 10]).count().plot(kind='bar')"
   ]
  },
  {
   "cell_type": "markdown",
   "metadata": {
    "id": "z7skoNwDqaYI"
   },
   "source": [
    "There is still observations with rank not attributed (=0)"
   ]
  },
  {
   "cell_type": "markdown",
   "metadata": {
    "id": "MIbv4XjarAXy"
   },
   "source": [
    "Most of these observations have been posted on the first of the month. Therefore, I assume that these comments are responses to comments that were posted in April 2015 or before and that we do not observe. \n",
    "\n",
    "I automatically mark these observations with rank 2 and redo this analysis"
   ]
  },
  {
   "cell_type": "code",
   "execution_count": 31,
   "metadata": {
    "id": "7T6RyhIMq_lL"
   },
   "outputs": [],
   "source": [
    "general_parent = list(set(df.name))\n",
    "second_comment = list(set(df.name[(df.rank_comment == 0) &(df.parent_id.isin(general_parent) == False)]))\n",
    "df[\"rank_comment\"] = np.where(df.name.isin(second_comment), 2, df[\"rank_comment\"])\n",
    "df[\"parent_comment_missing\"] = np.where(df.name.isin(second_comment), 1, 0)"
   ]
  },
  {
   "cell_type": "code",
   "execution_count": 33,
   "metadata": {
    "colab": {
     "base_uri": "https://localhost:8080/",
     "height": 315
    },
    "id": "KodntduLqlRY",
    "outputId": "7428a7cb-b833-4abc-9b3d-9d65488869e6"
   },
   "outputs": [
    {
     "data": {
      "text/plain": [
       "<matplotlib.axes._subplots.AxesSubplot at 0x13e789fe100>"
      ]
     },
     "execution_count": 33,
     "metadata": {},
     "output_type": "execute_result"
    },
    {
     "data": {
      "image/png": "[encoded data removed]",
      "text/plain": [
       "<Figure size 432x288 with 1 Axes>"
      ]
     },
     "metadata": {
      "needs_background": "light"
     },
     "output_type": "display_data"
    }
   ],
   "source": [
    "comment_to_keep = list(set(df.name[df.top_comment == 1]))\n",
    "for i in range(1,500):\n",
    "    if i == 1:\n",
    "        df[\"rank_comment\"] = np.where(df.name.isin(comment_to_keep), 1, df[\"rank_comment\"])\n",
    "    else:\n",
    "        df[\"rank_comment\"] = np.where(df.parent_id.isin(comment_to_keep), i, df[\"rank_comment\"])\n",
    "        comment_to_keep = list(set(df.name[df[\"rank_comment\"] == i]))\n",
    "    \n",
    "df.ups.groupby(df.rank_comment[df[\"rank_comment\"] < 10]).count().plot(kind='bar')\n"
   ]
  },
  {
   "cell_type": "markdown",
   "metadata": {},
   "source": [
    "Our rank variable is complete !"
   ]
  },
  {
   "cell_type": "code",
   "execution_count": 34,
   "metadata": {
    "id": "bh6oKe5isBBx"
   },
   "outputs": [],
   "source": [
    "df.drop(['parent_comment_missing'],axis=1, inplace=True)"
   ]
  },
  {
   "cell_type": "markdown",
   "metadata": {
    "id": "Vm9fNDCIrltb"
   },
   "source": [
    "**Child id**"
   ]
  },
  {
   "cell_type": "markdown",
   "metadata": {},
   "source": [
    "We extract the child ID (if it exists) so that the future analysis will be easier "
   ]
  },
  {
   "cell_type": "code",
   "execution_count": 36,
   "metadata": {
    "id": "mfbBOQTI6Sgw"
   },
   "outputs": [],
   "source": [
    "tree = {}\n",
    "for parent, child in zip(df.name, df.parent_id):\n",
    "    tree.setdefault(child, set()).add(parent)\n",
    "\n",
    "temp = pd.DataFrame(tree.items(), columns=['parent', 'child_id'])"
   ]
  },
  {
   "cell_type": "code",
   "execution_count": 37,
   "metadata": {
    "id": "n40Q6pKtHc9n"
   },
   "outputs": [],
   "source": [
    "temp.rename(columns={'parent': 'name'}, inplace=True)\n",
    "df = pd.merge(df,temp,on='name',how='left')"
   ]
  },
  {
   "cell_type": "markdown",
   "metadata": {
    "id": "Q4R8UuKGc7Zr"
   },
   "source": [
    "**parent score**"
   ]
  },
  {
   "cell_type": "markdown",
   "metadata": {},
   "source": [
    "We extract the score of the parent comment, which may be important as this will attract attention to the child comment."
   ]
  },
  {
   "cell_type": "code",
   "execution_count": 38,
   "metadata": {
    "id": "_FMT0-hVjkuz"
   },
   "outputs": [],
   "source": [
    "tree = {}\n",
    "for child, parent, score in zip(df.child_id, df.name, df.ups):\n",
    "    tree.setdefault(parent, score)"
   ]
  },
  {
   "cell_type": "code",
   "execution_count": 39,
   "metadata": {
    "id": "kK-ppVzkj8S3"
   },
   "outputs": [],
   "source": [
    "temp = pd.DataFrame(tree.items(), columns=['parent', 'score'])"
   ]
  },
  {
   "cell_type": "code",
   "execution_count": 40,
   "metadata": {
    "id": "oiEPE7kdkKb-"
   },
   "outputs": [],
   "source": [
    "temp.rename(columns={'parent': 'parent_id'}, inplace=True)\n",
    "temp.rename(columns={'score': 'parent_ups'}, inplace=True)\n",
    "df = pd.merge(df,temp,on='parent_id',how='left')"
   ]
  },
  {
   "cell_type": "markdown",
   "metadata": {
    "id": "wF7Y24E42izx"
   },
   "source": [
    "**Date parent**"
   ]
  },
  {
   "cell_type": "markdown",
   "metadata": {},
   "source": [
    "We extract the date at which the parent comment was posted."
   ]
  },
  {
   "cell_type": "code",
   "execution_count": 42,
   "metadata": {
    "id": "SU650zog2ig6"
   },
   "outputs": [],
   "source": [
    "tree = {}\n",
    "for child, parent, date in zip(df.child_id, df.name, df.created_utc):\n",
    "    tree.setdefault(parent, date)\n",
    "temp = pd.DataFrame(tree.items(), columns=['parent', 'parent_utc'])\n",
    "temp.rename(columns={'parent': 'parent_id'}, inplace=True)\n",
    "df = pd.merge(df,temp,on='parent_id',how='left')"
   ]
  },
  {
   "cell_type": "markdown",
   "metadata": {
    "id": "brpDULVZ4ofW"
   },
   "source": [
    "**Time span since parent**"
   ]
  },
  {
   "cell_type": "markdown",
   "metadata": {
    "id": "4yKRdhOjExQo"
   },
   "source": [
    "Comments seems to get more upvotes when they are posted shortly after their parent comment. Hence, we create a new variable that contains the time in seconds between a comment and its parent comment. "
   ]
  },
  {
   "cell_type": "code",
   "execution_count": 43,
   "metadata": {
    "id": "g7v3JHJc4sjQ"
   },
   "outputs": [],
   "source": [
    "df['seconds_after_parent'] = (df.created_utc - df.parent_utc).astype('timedelta64[s]')\n",
    "df['seconds_after_parent'] = np.where(pd.isna(df['seconds_after_parent']),df['seconds_after_parent'].mean(skipna=True) ,df['seconds_after_parent'])"
   ]
  },
  {
   "cell_type": "code",
   "execution_count": 44,
   "metadata": {
    "colab": {
     "base_uri": "https://localhost:8080/",
     "height": 202
    },
    "id": "0mlwou-I7rn8",
    "outputId": "ecaf6fab-0be1-48f6-8993-351da9295226"
   },
   "outputs": [
    {
     "data": {
      "text/html": [
       "<div>\n",
       "<style scoped>\n",
       "    .dataframe tbody tr th:only-of-type {\n",
       "        vertical-align: middle;\n",
       "    }\n",
       "\n",
       "    .dataframe tbody tr th {\n",
       "        vertical-align: top;\n",
       "    }\n",
       "\n",
       "    .dataframe thead tr th {\n",
       "        text-align: left;\n",
       "    }\n",
       "\n",
       "    .dataframe thead tr:last-of-type th {\n",
       "        text-align: right;\n",
       "    }\n",
       "</style>\n",
       "<table border=\"1\" class=\"dataframe\">\n",
       "  <thead>\n",
       "    <tr>\n",
       "      <th></th>\n",
       "      <th colspan=\"4\" halign=\"left\">seconds_after_parent</th>\n",
       "    </tr>\n",
       "    <tr>\n",
       "      <th></th>\n",
       "      <th>mean</th>\n",
       "      <th>median</th>\n",
       "      <th>min</th>\n",
       "      <th>max</th>\n",
       "    </tr>\n",
       "    <tr>\n",
       "      <th>popularity</th>\n",
       "      <th></th>\n",
       "      <th></th>\n",
       "      <th></th>\n",
       "      <th></th>\n",
       "    </tr>\n",
       "  </thead>\n",
       "  <tbody>\n",
       "    <tr>\n",
       "      <th>0</th>\n",
       "      <td>18094.663352</td>\n",
       "      <td>16700.999304</td>\n",
       "      <td>0.0</td>\n",
       "      <td>1986331.0</td>\n",
       "    </tr>\n",
       "    <tr>\n",
       "      <th>1</th>\n",
       "      <td>11212.991819</td>\n",
       "      <td>10908.000000</td>\n",
       "      <td>2.0</td>\n",
       "      <td>1790037.0</td>\n",
       "    </tr>\n",
       "    <tr>\n",
       "      <th>99</th>\n",
       "      <td>17199.896049</td>\n",
       "      <td>16700.999304</td>\n",
       "      <td>2.0</td>\n",
       "      <td>2556094.0</td>\n",
       "    </tr>\n",
       "  </tbody>\n",
       "</table>\n",
       "</div>"
      ],
      "text/plain": [
       "           seconds_after_parent                              \n",
       "                           mean        median  min        max\n",
       "popularity                                                   \n",
       "0                  18094.663352  16700.999304  0.0  1986331.0\n",
       "1                  11212.991819  10908.000000  2.0  1790037.0\n",
       "99                 17199.896049  16700.999304  2.0  2556094.0"
      ]
     },
     "execution_count": 44,
     "metadata": {},
     "output_type": "execute_result"
    }
   ],
   "source": [
    "df.groupby(\"popularity\").agg({\"seconds_after_parent\":[\"mean\",\"median\",\"min\",\"max\"]})"
   ]
  },
  {
   "cell_type": "markdown",
   "metadata": {
    "id": "R_KJqN8N9gLw"
   },
   "source": [
    "**Segmentation parent & mean ups parent**"
   ]
  },
  {
   "cell_type": "markdown",
   "metadata": {},
   "source": [
    "We extract the segmentation of the author who posted the parent comment, but also their average score:"
   ]
  },
  {
   "cell_type": "code",
   "execution_count": 45,
   "metadata": {
    "id": "YzK4FnAz80J5"
   },
   "outputs": [],
   "source": [
    "seg1 = {}\n",
    "for child, parent, seg in zip(df.child_id, df.name, df.active_user1):\n",
    "    seg1.setdefault(parent, seg)\n",
    "temp = pd.DataFrame(seg1.items(), columns=['parent_id', 'parent_seg1'])\n",
    "\n",
    "df = pd.merge(df,temp,on='parent_id',how='left')\n",
    "\n",
    "seg2 = {}\n",
    "for child, parent, seg in zip(df.child_id, df.name, df.active_user2):\n",
    "    seg2.setdefault(parent, seg)\n",
    "temp = pd.DataFrame(seg2.items(), columns=['parent_id', 'parent_seg2'])\n",
    "\n",
    "df = pd.merge(df,temp,on='parent_id',how='left')\n",
    "\n",
    "seg3 = {}\n",
    "for child, parent, seg in zip(df.child_id, df.name, df.active_user3):\n",
    "    seg3.setdefault(parent, seg)\n",
    "temp = pd.DataFrame(seg3.items(), columns=['parent_id', 'parent_seg3'])\n",
    "\n",
    "df = pd.merge(df,temp,on='parent_id',how='left')\n",
    "\n",
    "seg4 = {}\n",
    "for child, parent, seg in zip(df.child_id, df.name, df.active_user4):\n",
    "    seg4.setdefault(parent, seg)\n",
    "temp = pd.DataFrame(seg4.items(), columns=['parent_id', 'parent_seg4'])\n",
    "\n",
    "df = pd.merge(df,temp,on='parent_id',how='left')"
   ]
  },
  {
   "cell_type": "code",
   "execution_count": 46,
   "metadata": {
    "id": "WotTZnaNgNxg"
   },
   "outputs": [],
   "source": [
    "mean_ups = {}\n",
    "for child, parent, mean in zip(df.child_id, df.name, df.ups_mean):\n",
    "    mean_ups.setdefault(parent, mean)\n",
    "temp = pd.DataFrame(mean_ups.items(), columns=['parent_id', 'parent_ups_mean'])\n",
    "\n",
    "df = pd.merge(df,temp,on='parent_id',how='left')\n"
   ]
  },
  {
   "cell_type": "markdown",
   "metadata": {},
   "source": [
    "Fill the NA with zeros:"
   ]
  },
  {
   "cell_type": "code",
   "execution_count": 47,
   "metadata": {
    "id": "SL9Sbe2h-YLC"
   },
   "outputs": [],
   "source": [
    "df[df.columns.difference(['ups'])] = df[df.columns.difference(['ups'])].fillna(0)"
   ]
  },
  {
   "cell_type": "markdown",
   "metadata": {},
   "source": [
    "### Export the cleaned dataset"
   ]
  },
  {
   "cell_type": "code",
   "execution_count": 48,
   "metadata": {
    "id": "5Dg-WwLfM4Yb"
   },
   "outputs": [],
   "source": [
    "df = df.drop([\"child_id\",\"created_utc\",\"parent_utc\"],axis = 1)"
   ]
  },
  {
   "cell_type": "code",
   "execution_count": 49,
   "metadata": {},
   "outputs": [],
   "source": [
    "file=open(repsource+\"df_inter\",\"wb\")\n",
    "pickle.dump(df,file)\n",
    "file.close()"
   ]
  }
 ],
 "metadata": {
  "accelerator": "GPU",
  "colab": {
   "collapsed_sections": [],
   "name": "Copie de Reddit-WebMining.ipynb",
   "provenance": []
  },
  "kernelspec": {
   "display_name": "Python 3",
   "language": "python",
   "name": "python3"
  },
  "language_info": {
   "codemirror_mode": {
    "name": "ipython",
    "version": 3
   },
   "file_extension": ".py",
   "mimetype": "text/x-python",
   "name": "python",
   "nbconvert_exporter": "python",
   "pygments_lexer": "ipython3",
   "version": "3.8.3"
  }
 },
 "nbformat": 4,
 "nbformat_minor": 1
}
